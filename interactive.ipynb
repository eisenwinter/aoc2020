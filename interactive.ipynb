{
 "cells": [
  {
   "cell_type": "markdown",
   "metadata": {},
   "source": [
    "# .NET Interactive Test\n",
    "\n",
    "This is just some messing arround with .NET Interactive to see what one can do with it, for further information  https://github.com/dotnet/interactive / https://marketplace.visualstudio.com/items?itemName=ms-dotnettools.dotnet-interactive-vscode\n",
    "---\n",
    "You may disregard this notebook"
   ]
  },
  {
   "cell_type": "markdown",
   "metadata": {},
   "source": [
    "## Day 1 - Part One"
   ]
  },
  {
   "cell_type": "code",
   "execution_count": 1,
   "metadata": {},
   "source": [
    "#!fsharp\n",
    "open System.IO\n",
    "\n",
    "let read (filePath:string) = seq {\n",
    "    use sr = new StreamReader (filePath)\n",
    "    while not sr.EndOfStream do\n",
    "        yield sr.ReadLine ()\n",
    "}\n",
    "\n",
    "let input = \"./day1/input.txt\" |> read |> Seq.map int\n",
    "let number = \n",
    "    input \n",
    "    |> Seq.map (fun x -> 2020 - x) \n",
    "    |> Seq.filter (fun x -> Seq.contains x input)  \n",
    "    |> Seq.head\n",
    "printfn \"Number is %i\" (number * (2020 - number))"
   ],
   "outputs": [
    {
     "output_type": "execute_result",
     "data": {
      "text/plain": "Number is "
     },
     "execution_count": 1,
     "metadata": {}
    },
    {
     "output_type": "execute_result",
     "data": {
      "text/plain": "388075"
     },
     "execution_count": 1,
     "metadata": {}
    },
    {
     "output_type": "execute_result",
     "data": {
      "text/plain": "\r\n"
     },
     "execution_count": 1,
     "metadata": {}
    }
   ]
  },
  {
   "cell_type": "markdown",
   "metadata": {},
   "source": [
    "## Day One - Part Two"
   ]
  },
  {
   "cell_type": "code",
   "execution_count": 1,
   "metadata": {},
   "source": [
    "#!fsharp\n",
    "open System.IO\n",
    "\n",
    "let read (filePath:string) = seq {\n",
    "    use sr = new StreamReader (filePath)\n",
    "    while not sr.EndOfStream do\n",
    "        yield sr.ReadLine ()\n",
    "}\n",
    "\n",
    "let input = \"./day1/input.txt\" |> read |> Seq.map int\n",
    "let sorted = input |> Seq.sort\n",
    "let bound = input |> Seq.length\n",
    "\n",
    "let findRemaining x = \n",
    "    sorted |> Seq.tryFind (fun y -> (2020 - x) = y)\n",
    "\n",
    "let rec findSecond x i =\n",
    "    match i with \n",
    "    | b when bound <= b -> None\n",
    "    | _ -> \n",
    "        let z =  sorted |> Seq.skip i |> Seq.head\n",
    "        let x' = z |> (+) x |> findRemaining\n",
    "        match x' with \n",
    "            | Some y -> Some (y * x * z) \n",
    "            | _ -> (findSecond x (i+1))\n",
    "\n",
    "sorted \n",
    "    |> Seq.map (fun x -> (findSecond x 0))\n",
    "    |> Seq.choose id\n",
    "    |> Seq.head\n",
    "    |> (printfn \"Number is %i\")"
   ],
   "outputs": [
    {
     "output_type": "execute_result",
     "data": {
      "text/plain": "Number is "
     },
     "execution_count": 1,
     "metadata": {}
    },
    {
     "output_type": "execute_result",
     "data": {
      "text/plain": "293450526"
     },
     "execution_count": 1,
     "metadata": {}
    },
    {
     "output_type": "execute_result",
     "data": {
      "text/plain": "\r\n"
     },
     "execution_count": 1,
     "metadata": {}
    }
   ]
  },
  {
   "cell_type": "markdown",
   "metadata": {},
   "source": [
    "Theres *prolly* a way to import the fsx files besides `#load` blocks wich fail cause of the relative path and are ugly,\n",
    "\n",
    "I have not figured it out.. _yet_ "
   ]
  }
 ],
 "metadata": {
  "kernelspec": {
   "display_name": ".NET (C#)",
   "language": "C#",
   "name": ".net-csharp"
  },
  "language_info": {
   "file_extension": ".cs",
   "mimetype": "text/x-csharp",
   "name": "C#",
   "pygments_lexer": "csharp",
   "version": "8.0"
  }
 },
 "nbformat": 4,
 "nbformat_minor": 4
}